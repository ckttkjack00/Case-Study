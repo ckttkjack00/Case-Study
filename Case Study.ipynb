{
 "cells": [
  {
   "cell_type": "code",
   "execution_count": null,
   "id": "4923846f-b4dc-4d46-8e54-03475031d785",
   "metadata": {},
   "outputs": [
    {
     "name": "stdin",
     "output_type": "stream",
     "text": [
      "Enter last name (or 'ZZZ' to quit):  Jackson\n",
      "Enter first name:  Kendal\n",
      "Enter GPA:  3.25\n"
     ]
    },
    {
     "name": "stdout",
     "output_type": "stream",
     "text": [
      "Kendal Jackson made the Honor Roll.\n"
     ]
    },
    {
     "name": "stdin",
     "output_type": "stream",
     "text": [
      "Enter last name (or 'ZZZ' to quit):  Jackson\n",
      "Enter first name:  Charlee\n",
      "Enter GPA:  3.8\n"
     ]
    },
    {
     "name": "stdout",
     "output_type": "stream",
     "text": [
      "Charlee Jackson made the Dean's List.\n"
     ]
    },
    {
     "name": "stdin",
     "output_type": "stream",
     "text": [
      "Enter last name (or 'ZZZ' to quit):  jackson\n",
      "Enter first name:  kacyn\n",
      "Enter GPA:  3.7\n"
     ]
    },
    {
     "name": "stdout",
     "output_type": "stream",
     "text": [
      "kacyn jackson made the Dean's List.\n"
     ]
    },
    {
     "name": "stdin",
     "output_type": "stream",
     "text": [
      "Enter last name (or 'ZZZ' to quit):  jackson\n",
      "Enter first name:  teigan\n",
      "Enter GPA:  3.9\n"
     ]
    },
    {
     "name": "stdout",
     "output_type": "stream",
     "text": [
      "teigan jackson made the Dean's List.\n"
     ]
    },
    {
     "name": "stdin",
     "output_type": "stream",
     "text": [
      "Enter last name (or 'ZZZ' to quit):  jackson\n",
      "Enter first name:  tatum\n",
      "Enter GPA:  3.6\n"
     ]
    },
    {
     "name": "stdout",
     "output_type": "stream",
     "text": [
      "tatum jackson made the Dean's List.\n"
     ]
    },
    {
     "name": "stdin",
     "output_type": "stream",
     "text": [
      "Enter last name (or 'ZZZ' to quit):  jackson\n",
      "Enter first name:  kyndyl\n",
      "Enter GPA:  3.75\n"
     ]
    },
    {
     "name": "stdout",
     "output_type": "stream",
     "text": [
      "kyndyl jackson made the Dean's List.\n"
     ]
    },
    {
     "name": "stdin",
     "output_type": "stream",
     "text": [
      "Enter last name (or 'ZZZ' to quit):  jacksokn\n",
      "Enter first name:  marly\n",
      "Enter GPA:  3\n"
     ]
    }
   ],
   "source": [
    "# Simplified student qualification checker in a Jupyter Notebook\n",
    "\n",
    "while True:\n",
    "    # Ask for the student's last name\n",
    "    last_name = input(\"Enter last name (or 'ZZZ' to quit): \")\n",
    "    if last_name.upper() == 'ZZZ':\n",
    "        break  # Exit the loop if 'ZZZ' is entered\n",
    "    \n",
    "    # Ask for the student's first name\n",
    "    first_name = input(\"Enter first name: \")\n",
    "    \n",
    "    # Ask for the student's GPA and convert it to a float\n",
    "    gpa = float(input(\"Enter GPA: \"))\n",
    "    \n",
    "    # Check the GPA to determine if the student made the Dean's List or Honor Roll\n",
    "    if gpa >= 3.5:\n",
    "        print(f\"{first_name} {last_name} made the Dean's List.\")\n",
    "    elif gpa >= 3.25:\n",
    "        print(f\"{first_name} {last_name} made the Honor Roll.\")\n"
   ]
  },
  {
   "cell_type": "code",
   "execution_count": null,
   "id": "e8dec344-dd1c-4bc9-8c2c-713f37623542",
   "metadata": {},
   "outputs": [],
   "source": []
  }
 ],
 "metadata": {
  "kernelspec": {
   "display_name": "Python 3 (ipykernel)",
   "language": "python",
   "name": "python3"
  },
  "language_info": {
   "codemirror_mode": {
    "name": "ipython",
    "version": 3
   },
   "file_extension": ".py",
   "mimetype": "text/x-python",
   "name": "python",
   "nbconvert_exporter": "python",
   "pygments_lexer": "ipython3",
   "version": "3.12.4"
  }
 },
 "nbformat": 4,
 "nbformat_minor": 5
}
